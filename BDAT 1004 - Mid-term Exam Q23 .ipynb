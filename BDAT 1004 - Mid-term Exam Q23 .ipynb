{
 "cells": [
  {
   "cell_type": "markdown",
   "id": "9728bf59-1b65-4ec5-9cdb-43dc496699f4",
   "metadata": {},
   "source": [
    "# BDAT 1004 - Mid-term Exam \n",
    "Question 23"
   ]
  },
  {
   "cell_type": "code",
   "execution_count": 5,
   "id": "93757b48-fa6f-47f1-9f00-f30f8be5ba43",
   "metadata": {},
   "outputs": [
    {
     "name": "stdout",
     "output_type": "stream",
     "text": [
      "****\n",
      " ***\n",
      "  **\n",
      "   *\n",
      "  **\n",
      " ***\n",
      "****\n"
     ]
    }
   ],
   "source": [
    "def tough(indent, max_stars):\n",
    "    \n",
    "    if max_stars == 0:\n",
    "        return\n",
    "    \n",
    "    # Recursive function\n",
    "    print(' ' * indent + '*' * max_stars)\n",
    "    \n",
    "    tough(indent + 1, max_stars - 1)\n",
    "    \n",
    "    \n",
    "    if max_stars > 1:\n",
    "        print(' ' * indent + '*' * max_stars)\n",
    "\n",
    "tough(0, 4)"
   ]
  },
  {
   "cell_type": "code",
   "execution_count": null,
   "id": "e4fd17e8-80e0-48e3-bd7c-a33e1248c8c7",
   "metadata": {},
   "outputs": [],
   "source": []
  }
 ],
 "metadata": {
  "kernelspec": {
   "display_name": "Python 3 (ipykernel)",
   "language": "python",
   "name": "python3"
  },
  "language_info": {
   "codemirror_mode": {
    "name": "ipython",
    "version": 3
   },
   "file_extension": ".py",
   "mimetype": "text/x-python",
   "name": "python",
   "nbconvert_exporter": "python",
   "pygments_lexer": "ipython3",
   "version": "3.12.4"
  }
 },
 "nbformat": 4,
 "nbformat_minor": 5
}
